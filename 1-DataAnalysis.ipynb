{
 "cells": [
  {
   "cell_type": "markdown",
   "id": "3431e9fa",
   "metadata": {},
   "source": [
    "# Earth System Model Data Analysis with Python and Xarray"
   ]
  },
  {
   "cell_type": "markdown",
   "id": "c249f434",
   "metadata": {},
   "source": [
    "*Paolo Davini (2024)*\n",
    "\n",
    "This notebook aims at illustrating how to perform some simple climate data analysis based on the [NetCDF](https://www.unidata.ucar.edu/software/netcdf/) file format, which are geo-referenced files common in climate modeling. All the analysis is done with Python3, taking advantages of powerfule package known as [Xarray](https://docs.xarray.dev/en/stable/). The idea is to show some basic functionalities to access data from climate models, select some years, doing averages and so on. For more advanced usage, check the [Xarray tutorials](https://tutorial.xarray.dev/intro.html) or simply ask ChatGPT."
   ]
  },
  {
   "cell_type": "markdown",
   "id": "d0e01d50",
   "metadata": {},
   "source": [
    "We start by loading fundamental Python packages. In Python, imports can be done only for packages already available on the machines - the required ones have been installed in this virtual machine - and a common way to perform imports is to use the *as* syntax which simplifies the call of the corresponding package."
   ]
  },
  {
   "cell_type": "code",
   "execution_count": null,
   "id": "b76b714e",
   "metadata": {},
   "outputs": [],
   "source": [
    "import xarray as xr\n",
    "import numpy as np\n",
    "import matplotlib.pyplot as plt"
   ]
  },
  {
   "cell_type": "markdown",
   "id": "36e59616",
   "metadata": {},
   "source": [
    "Now we will load some data surface temperature data from a climate experiment from CMIP6, specifically for EC-Earth3 historical simulations. `tas` is the *cmor* (a [convention](https://wcrp-cmip.github.io/WGCM_Infrastructure_Panel//cmor_and_mip_tables.html) used in NetCDF climate model data) standard name for 2-meter surface temperature. To simplify the analysis, the data have been interpolated on a regular grid of 1x1 degree. All the pre-processing operations have been with [CDO](https://code.mpimet.mpg.de/projects/cdo), a powerful command line tool developed by MPI."
   ]
  },
  {
   "cell_type": "markdown",
   "id": "ab051210",
   "metadata": {},
   "source": [
    "## NetCDF files and Xarray objects\n",
    "\n",
    "We start loading the data, using `xr.open_dataset()` method. Very Easy!"
   ]
  },
  {
   "cell_type": "code",
   "execution_count": null,
   "id": "5e4926e8",
   "metadata": {},
   "outputs": [],
   "source": [
    "data = xr.open_dataset('ussp/tas_EC-Earth3_historical_r1p1if1_1850-2014.nc')\n",
    "data"
   ]
  },
  {
   "cell_type": "markdown",
   "id": "f5a45809",
   "metadata": {},
   "source": [
    "Xarray provides a packed object which includes multiple array, mostly with numpy but also possibly with other formats, all together in specific geo-referenced gridded shape. It is possible to inspect the different properties of the data we just loaded. This is made by `time`, `lon`, `lat` coordinates (which are distinguished from Xarray dimensions, which can be interpreted mostly as the indices of the data). In this case we have a single height level ince we are the surface. Two variables are stored, both `tas` and `time_bnds`. We can further access each variable. Access can be done with both square brackets or dots."
   ]
  },
  {
   "cell_type": "code",
   "execution_count": null,
   "id": "50faf7cc",
   "metadata": {
    "scrolled": false
   },
   "outputs": [],
   "source": [
    "data['tas']"
   ]
  },
  {
   "cell_type": "markdown",
   "id": "88d90dff",
   "metadata": {},
   "source": [
    "This is the `DataArray`, typical object and stores a lot of information about the properties of the data (what we call *attributes*). An Xarray `Dataset` is made by multiple `DataArray`. This two object make the fundamental bricks of Xarray. What about the other variable?"
   ]
  },
  {
   "cell_type": "code",
   "execution_count": null,
   "id": "a5bc939c",
   "metadata": {},
   "outputs": [],
   "source": [
    "data.time_bnds"
   ]
  },
  {
   "cell_type": "markdown",
   "id": "a0df8212",
   "metadata": {},
   "source": [
    "So what is `time_bnds` for? What is inside this object and what is telling us? You can inspect the Xarray object using the `.data` attribute"
   ]
  },
  {
   "cell_type": "code",
   "execution_count": null,
   "id": "815c5480",
   "metadata": {},
   "outputs": [],
   "source": [
    "data.time_bnds.data"
   ]
  },
  {
   "cell_type": "markdown",
   "id": "9f63172a",
   "metadata": {},
   "source": [
    "## Playing with the data"
   ]
  },
  {
   "cell_type": "markdown",
   "id": "ee079d25",
   "metadata": {},
   "source": [
    "Xarray is very powerful, and can combine multiple operation in a single line. For example is possible to easily select a subset of the data, operating only on surface temperature, doing the average and then plotting even with a one-liner!"
   ]
  },
  {
   "cell_type": "code",
   "execution_count": null,
   "id": "ea9d7936",
   "metadata": {},
   "outputs": [],
   "source": [
    "wrong_mean = data['tas'].mean(dim=['lon', 'lat'])\n"
   ]
  },
  {
   "cell_type": "markdown",
   "id": "9d6e101b",
   "metadata": {},
   "source": [
    "One important feature of Xarray is that operation are done in **lazy** way. This means that the computation are not executed immediately, but only when they are effectively needed. For example, when you ask for plotting"
   ]
  },
  {
   "cell_type": "code",
   "execution_count": null,
   "id": "01c27491",
   "metadata": {},
   "outputs": [],
   "source": [
    "wrong_mean.plot()"
   ]
  },
  {
   "cell_type": "markdown",
   "id": "cb79bc31",
   "metadata": {},
   "source": [
    "What are we looking to? **What's this noise?**\n",
    "\n",
    "We can look closer, perhaps we can get more insight..."
   ]
  },
  {
   "cell_type": "code",
   "execution_count": null,
   "id": "e96988e4",
   "metadata": {},
   "outputs": [],
   "source": [
    "wrong_mean.sel(time=slice('2000-01-01', '2010-01-01')).plot()"
   ]
  },
  {
   "cell_type": "markdown",
   "id": "25c1702a",
   "metadata": {},
   "source": [
    "What are those cycles? We might need to do an average in time thus, and we can do it with the `resample()` method, to produce a yearly mean!"
   ]
  },
  {
   "cell_type": "code",
   "execution_count": null,
   "id": "7e49b991",
   "metadata": {},
   "outputs": [],
   "source": [
    "wrong_mean = data['tas'].mean(dim=['lon', 'lat']).resample(time='Y').mean()\n",
    "wrong_mean.plot()"
   ]
  },
  {
   "cell_type": "markdown",
   "id": "6a4c6144",
   "metadata": {},
   "source": [
    "`resample()` is very powerful, build on [pandas](https://pandas.pydata.org/docs/user_guide/timeseries.html) and can resample on almost all the kind of frequency you can imagine.\n",
    "Of course, we can inspect the seasonal cycle in different part of the globe, and this can be easily done with few lines of code."
   ]
  },
  {
   "cell_type": "code",
   "execution_count": null,
   "id": "2657e1a4",
   "metadata": {},
   "outputs": [],
   "source": [
    "select = data['tas'].sel(time=slice('2000-01-01', '2010-01-01'))\n",
    "zonal = select.mean(dim='lon').sel(lat=[-89.5, 0.5, 89.5])\n",
    "zonal.plot.line(x=\"time\")"
   ]
  },
  {
   "cell_type": "markdown",
   "id": "1555e0a6",
   "metadata": {},
   "source": [
    "## A correct spatial averaging"
   ]
  },
  {
   "cell_type": "markdown",
   "id": "2456d679",
   "metadata": {},
   "source": [
    "However, most of the above operations are wrong. We did a serious mistake, we did not consider the fact that into a regularly gridded dataset over the globe, the area of each grid point is not the same. Therefore, if we do the average as above, we are counting points at high latitudes with the same weight that points at the Equator, and this is wrong.\n",
    "Keep in mind that the half of Earth surface is between 30S and 30N!\n",
    "However, this can be easily achieved with Xarray through the `weighted()` method, keepining mind that the surface of each grid box scales with the cosine of the latitude"
   ]
  },
  {
   "cell_type": "code",
   "execution_count": null,
   "id": "66e7ebd9",
   "metadata": {},
   "outputs": [],
   "source": [
    "area_weights = np.cos(np.deg2rad(data.lat))"
   ]
  },
  {
   "cell_type": "code",
   "execution_count": null,
   "id": "4d3116a4",
   "metadata": {},
   "outputs": [],
   "source": [
    "weighted_mean = data['tas'].weighted(area_weights).mean(dim=['lon', 'lat']).resample(time='Y').mean()"
   ]
  },
  {
   "cell_type": "code",
   "execution_count": null,
   "id": "8ccba7d0",
   "metadata": {
    "scrolled": false
   },
   "outputs": [],
   "source": [
    "weighted_mean.plot(label=\"weighted\")\n",
    "wrong_mean.plot(label=\"unweighted\")\n",
    "plt.legend()"
   ]
  },
  {
   "cell_type": "markdown",
   "id": "1b872495",
   "metadata": {},
   "source": [
    "## A comparison with observations\n",
    "\n",
    "This how a climate model behaves, but what about real world observations? Gridded datasets are available, but for simplicity we will make use of the ERA5 ECMWF reanalysis, which provides a model-uniformed approach to climate data. Reanalysis are made with high resolution climate models which assimilates observations from all over the world and fills missing points with climate data. They are helpful since they can measure also things which are not usually available on gridded datasets, as snowfall or heat fluxes. "
   ]
  },
  {
   "cell_type": "code",
   "execution_count": null,
   "id": "2ec7e70c",
   "metadata": {},
   "outputs": [],
   "source": [
    "era5 = xr.open_mfdataset('ussp/tas_ERA5_1940-2022.nc')\n",
    "era5"
   ]
  },
  {
   "cell_type": "code",
   "execution_count": null,
   "id": "d1b56388",
   "metadata": {},
   "outputs": [],
   "source": [
    "era5_mean = era5['tas'].weighted(area_weights).mean(dim=['lon', 'lat']).resample(time='YS').mean()"
   ]
  },
  {
   "cell_type": "code",
   "execution_count": null,
   "id": "5dc924c3",
   "metadata": {},
   "outputs": [],
   "source": [
    "weighted_mean.plot(label=\"EC-Earth3\", color='green')\n",
    "era5_mean.plot(label=\"ERA5\", color='purple')\n",
    "plt.legend()"
   ]
  },
  {
   "cell_type": "markdown",
   "id": "9e1e76f2",
   "metadata": {},
   "source": [
    "The model seems to be more sensitive that the real-world. Indeed, EC-Earth3 is known as being one climate model with a large climate sensitivity!\n",
    "\n",
    "- Why model and reanalysis have a so large difference?\n",
    "- Can you do the same plot but for the Northern Hemisphere and the Southern Hemisphere only?"
   ]
  },
  {
   "cell_type": "markdown",
   "id": "882198ec",
   "metadata": {},
   "source": [
    "## Climatological mean and interannual variability\n",
    "\n",
    "We can explore the climatological mean of temperature, and also inspect its variability, few simple commands"
   ]
  },
  {
   "cell_type": "code",
   "execution_count": null,
   "id": "ed8cad04",
   "metadata": {},
   "outputs": [],
   "source": [
    "clim = data['tas'].sel(time=slice('1980-01-01', '2009-12-31')).mean(dim='time')\n",
    "clim.plot()"
   ]
  },
  {
   "cell_type": "code",
   "execution_count": null,
   "id": "56cb17d4",
   "metadata": {},
   "outputs": [],
   "source": [
    "std = data['tas'].sel(time=slice('1980-01-01', '2009-12-31')).std(dim='time')\n",
    "std.plot()"
   ]
  },
  {
   "cell_type": "markdown",
   "id": "7c4b2793",
   "metadata": {},
   "source": [
    "Which patterns emerge so clearly from those two maps above?\n",
    "Why are difference so large in stadard deviation between northern hemisphere and southern hemisphere?"
   ]
  },
  {
   "cell_type": "markdown",
   "id": "fc036272",
   "metadata": {},
   "source": [
    "## Time selection and seasonal mean\n",
    "One thing that is important to be able to do is to select specific season in order to do analysis of some selected data only"
   ]
  },
  {
   "cell_type": "code",
   "execution_count": null,
   "id": "f189549e",
   "metadata": {},
   "outputs": [],
   "source": [
    "jan = data['tas'].sel(time=(data.time.dt.month==1)).sel(time=slice('2000-01-01', '2009-12-31')).mean(dim='time')\n",
    "jan.plot()"
   ]
  },
  {
   "cell_type": "markdown",
   "id": "55e7f33e",
   "metadata": {},
   "source": [
    "Let's do the same thing for July, and the run the difference"
   ]
  },
  {
   "cell_type": "code",
   "execution_count": null,
   "id": "1c7090ef",
   "metadata": {},
   "outputs": [],
   "source": [
    "jul = data['tas'].sel(time=(data.time.dt.month==7)).sel(time=slice('2000-01-01', '2009-12-31')).mean(dim='time')\n",
    "delta = (jul - jan).plot()"
   ]
  },
  {
   "cell_type": "markdown",
   "id": "cc2153f5",
   "metadata": {},
   "source": [
    "Which pattern are emerging clearly in this map? Could you plot **the same thing but for Mar and September**? Could you do the difference between the two months? What is emerging in this plot? "
   ]
  },
  {
   "cell_type": "markdown",
   "id": "12896a3b",
   "metadata": {},
   "source": [
    "## Plotting with Cartopy "
   ]
  },
  {
   "cell_type": "markdown",
   "id": "1cc31ef1",
   "metadata": {},
   "source": [
    "An important (unfortunately far from perfect) tool in Python is `cartopy`, a package can allow to do different things from adding coastlines or plotting with specific projection."
   ]
  },
  {
   "cell_type": "code",
   "execution_count": null,
   "id": "99da919d",
   "metadata": {},
   "outputs": [],
   "source": [
    "import cartopy.crs as ccrs\n",
    "plotproj = dict(projection=ccrs.Orthographic(0, 35), facecolor=\"gray\")\n",
    "climate = data['tas'].sel(time=slice('2000-01-01', '2010-01-01')).mean(dim='time')\n",
    "pp = climate.plot(subplot_kws=plotproj, transform=ccrs.PlateCarree())\n",
    "pp.axes.coastlines()"
   ]
  },
  {
   "cell_type": "code",
   "execution_count": null,
   "id": "06f36e61",
   "metadata": {},
   "outputs": [],
   "source": [
    "pp = climate.plot.contourf(subplot_kws=dict(projection=ccrs.PlateCarree()))\n",
    "pp.axes.coastlines()"
   ]
  },
  {
   "cell_type": "markdown",
   "id": "91df1ca6",
   "metadata": {},
   "source": [
    "## A regional analysis\n",
    "Finally, a simple test to show how to select a box and plot the characteristics of temperature in Italy"
   ]
  },
  {
   "cell_type": "code",
   "execution_count": null,
   "id": "5cf05dbf",
   "metadata": {},
   "outputs": [],
   "source": [
    "italy = data['tas'].sel(lon=slice(5,20),lat=slice(35,50)).mean(dim='time')\n",
    "pp = italy.plot(subplot_kws=dict(projection=ccrs.PlateCarree()))\n",
    "pp.axes.coastlines()"
   ]
  },
  {
   "cell_type": "markdown",
   "id": "58dedc98",
   "metadata": {},
   "source": [
    "Climate models have a **limited resolution**, and although it is increasing, the entire Italy is made by a few pixels!\n",
    "- Can you do the same plot over India?\n",
    "- Can you plot the temperature timeseries for Urbino forecasted by the EC-Earth3 climate model and compare it with ERA5? "
   ]
  }
 ],
 "metadata": {
  "kernelspec": {
   "display_name": "Python 3 (ipykernel)",
   "language": "python",
   "name": "python3"
  },
  "language_info": {
   "codemirror_mode": {
    "name": "ipython",
    "version": 3
   },
   "file_extension": ".py",
   "mimetype": "text/x-python",
   "name": "python",
   "nbconvert_exporter": "python",
   "pygments_lexer": "ipython3",
   "version": "3.12.3"
  }
 },
 "nbformat": 4,
 "nbformat_minor": 5
}
