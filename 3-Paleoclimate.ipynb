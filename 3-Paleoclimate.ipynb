{
 "cells": [
  {
   "cell_type": "markdown",
   "id": "507a6800",
   "metadata": {},
   "source": [
    "# Analysis of some Paleoclimate model data\n",
    "\n",
    "*Paolo Davini (2024)*\n",
    "\n",
    "This notebook aims at illustrating a simple analysis of paleoclimate simulations, part of the [PMIP](https://pmip.lsce.ipsl.fr/) project, that probably many of you already know much better than me! We take data from one specific climate model, namely the AWI-ESM-1 Earth System Model. To simplify the analysis and increase the amount of data available we interpolated everything to 2x2 degree grid, and perform climatological mean so that you will have only one record per variable! Some operations indeed can be computationally heavy, and we cannot run them on a cloud jupyter notebook :-) "
   ]
  },
  {
   "cell_type": "code",
   "execution_count": null,
   "id": "57f78310",
   "metadata": {},
   "outputs": [],
   "source": [
    "import xarray as xr\n",
    "import numpy as np\n",
    "import matplotlib.pyplot as plt\n",
    "import cartopy.crs as ccrs"
   ]
  },
  {
   "cell_type": "markdown",
   "id": "ae5f9a1a",
   "metadata": {},
   "source": [
    "## Data Loading\n",
    "\n",
    "We have data from the historical CMIP6 simulations, together data from the Last Glacial Maximum (LGM) and the Last Integracial (LIG). A few variables are present in the different simulations, ranging from surface winds to zonal winds"
   ]
  },
  {
   "cell_type": "code",
   "execution_count": null,
   "id": "57278cf0",
   "metadata": {},
   "outputs": [],
   "source": [
    "historical = xr.open_mfdataset('ussp/*AWI*historical*.nc', compat='override',  join=\"override\")\n",
    "historical"
   ]
  },
  {
   "cell_type": "code",
   "execution_count": null,
   "id": "44f1c0c9",
   "metadata": {},
   "outputs": [],
   "source": [
    "lgm = xr.open_mfdataset('ussp/*AWI*lgm*.nc', compat='override', join=\"override\")\n",
    "lgm"
   ]
  },
  {
   "cell_type": "code",
   "execution_count": null,
   "id": "c5519e70",
   "metadata": {},
   "outputs": [],
   "source": [
    "lig = xr.open_mfdataset('ussp/*AWI*lig*.nc', compat='override',  join=\"override\")\n",
    "lig"
   ]
  },
  {
   "cell_type": "markdown",
   "id": "f0f6479f",
   "metadata": {},
   "source": [
    "## Basic comparison\n",
    "\n",
    "A simple way to see the difference in ice sheet extension can go through the surface pressure!"
   ]
  },
  {
   "cell_type": "code",
   "execution_count": null,
   "id": "68e4d04f",
   "metadata": {},
   "outputs": [],
   "source": [
    "pp = (lgm['ps']-historical['ps']).plot(subplot_kws=dict(projection=ccrs.PlateCarree()))\n",
    "pp.axes.coastlines()"
   ]
  },
  {
   "cell_type": "markdown",
   "id": "865efacc",
   "metadata": {},
   "source": [
    "Why **the surface pressure is so different between historical and LGM in some specific area of the globe**?"
   ]
  },
  {
   "cell_type": "markdown",
   "id": "32af6509",
   "metadata": {},
   "source": [
    "With a little bit more of coding handling, we can plot the differences between the precipitation field in a multiplot adding the coastlines!"
   ]
  },
  {
   "cell_type": "code",
   "execution_count": null,
   "id": "626a18e8",
   "metadata": {},
   "outputs": [],
   "source": [
    "fig, axs = plt.subplots(3,1, figsize=(15,10), subplot_kw=dict(projection=ccrs.PlateCarree()))\n",
    "(lgm['pr']*86400).plot(ax=axs[0],vmax=15) #converting from Kgm-1s-1 to mm/day\n",
    "axs[0].set_title('LGM')\n",
    "axs[0].coastlines()\n",
    "(historical['pr']*86400).plot(ax=axs[1],vmax=15)\n",
    "axs[1].set_title('historical')\n",
    "axs[1].coastlines()\n",
    "((historical['pr']-lgm['pr'])*86400).plot(ax=axs[2])\n",
    "axs[2].set_title('DELTA')\n",
    "axs[2].coastlines()"
   ]
  },
  {
   "cell_type": "markdown",
   "id": "9968a239",
   "metadata": {},
   "source": [
    "## Writing a function to speed up analysis!\n",
    "\n",
    "The above type of plot can be very helpful to replicate, we can build a function to do it so that we avoid to write all that bunch of code every time"
   ]
  },
  {
   "cell_type": "code",
   "execution_count": null,
   "id": "2d6d3882",
   "metadata": {},
   "outputs": [],
   "source": [
    "def compare_plot(field1, field2, vmin=None, vmax=None):\n",
    "    \n",
    "    \"\"\"Small function that plot two fields and their difference\"\"\"\n",
    "    \n",
    "    fig, axs = plt.subplots(2,1, figsize=(10,10), subplot_kw=dict(projection=ccrs.PlateCarree()))\n",
    "    field1.plot(ax=axs[0],vmin=vmin, vmax=vmax)\n",
    "    axs[0].set_title(field1.name)\n",
    "    axs[0].coastlines()\n",
    "    #field2.plot(ax=axs[1],vmin=vmin, vmax=vmax)\n",
    "    #axs[1].set_title(field2.name)\n",
    "    #axs[1].coastlines()\n",
    "    (field1-field2).plot(ax=axs[1],cmap='seismic')\n",
    "    axs[1].set_title('DELTA')\n",
    "    axs[1].coastlines()"
   ]
  },
  {
   "cell_type": "code",
   "execution_count": null,
   "id": "5055b9f5",
   "metadata": {},
   "outputs": [],
   "source": [
    "compare_plot(lig['tas'],historical['tas'],vmin=200,vmax=310)"
   ]
  },
  {
   "cell_type": "markdown",
   "id": "0d46f659",
   "metadata": {},
   "source": [
    "## Circulation changes\n",
    "One quite interesting feature to study is to check how the wind circulation is changing, and this can be done exploring the zonal wind `ua`, which is available in multiple experiments. However, we need to take a bit of confidence with those new field, since it is stored not only at the surface but on the entire atmospheric column following *pressure levels*. "
   ]
  },
  {
   "cell_type": "code",
   "execution_count": null,
   "id": "f3ad5911",
   "metadata": {},
   "outputs": [],
   "source": [
    "historical['ua']"
   ]
  },
  {
   "cell_type": "markdown",
   "id": "e720c4ec",
   "metadata": {},
   "source": [
    "The coordinate can be accessed easily with xarray, and it shows that the data has 19 levels, stored on pressure and the unit is Pa"
   ]
  },
  {
   "cell_type": "code",
   "execution_count": null,
   "id": "eaa32029",
   "metadata": {},
   "outputs": [],
   "source": [
    "historical.plev"
   ]
  },
  {
   "cell_type": "markdown",
   "id": "c777e08a",
   "metadata": {},
   "source": [
    "With a bit of caution, we can run the same function as before. What do you spot here? Are the jet streams very different? "
   ]
  },
  {
   "cell_type": "code",
   "execution_count": null,
   "id": "bc6edb6a",
   "metadata": {},
   "outputs": [],
   "source": [
    "compare_plot(lgm['ua'].sel(plev=85000), historical['ua'].sel(plev=85000))"
   ]
  },
  {
   "cell_type": "markdown",
   "id": "ae501bd9",
   "metadata": {},
   "source": [
    "We can even do something more complex, still with the feature of xarray. We use the matplotlib `countourf` function to produce the zonal mean of the wind, in order to see the cross section of zonal winds!"
   ]
  },
  {
   "cell_type": "code",
   "execution_count": null,
   "id": "128afd31",
   "metadata": {},
   "outputs": [],
   "source": [
    "zonal_hist = (historical['ua'].mean(dim='lon'))\n",
    "zonal_lgm = lgm['ua'].mean(dim='lon')\n",
    "fig, ax = plt.subplots()\n",
    "zonal_hist.squeeze().plot.contourf(levels=15)\n",
    "ax.invert_yaxis()\n"
   ]
  },
  {
   "cell_type": "markdown",
   "id": "30d2e4b8",
   "metadata": {},
   "source": [
    "Similarly with what done above, we can run the difference between the two fields, and even play with color palette `cmap`. For a complete list of possible palettes, check the [matplotlib website](https://matplotlib.org/stable/users/explain/colors/colormaps.html)"
   ]
  },
  {
   "cell_type": "code",
   "execution_count": null,
   "id": "45e0988e",
   "metadata": {},
   "outputs": [],
   "source": [
    "fig, ax = plt.subplots()\n",
    "(zonal_hist-zonal_lgm).squeeze().plot.contourf(levels=15, cmap='PRGn')\n",
    "ax.invert_yaxis()"
   ]
  },
  {
   "cell_type": "markdown",
   "id": "731eb8d0",
   "metadata": {},
   "source": [
    "## Play with the data!\n",
    "\n",
    "You can inspect freely the data provided and analyse the climatological differences\n",
    "- What are the differences in surface winds? Are they comparable with the one you see at zonal winds?\n",
    "- Are the many differences in cloud cover distribution between the different experiments?\n",
    "- Can you load ERA5 temperature, and estimate the temperature differences between the climate models in the different experiments and the present climate observations?\n",
    "- What about the climate over Italy in the different experiments? "
   ]
  }
 ],
 "metadata": {
  "kernelspec": {
   "display_name": "Python 3 (ipykernel)",
   "language": "python",
   "name": "python3"
  },
  "language_info": {
   "codemirror_mode": {
    "name": "ipython",
    "version": 3
   },
   "file_extension": ".py",
   "mimetype": "text/x-python",
   "name": "python",
   "nbconvert_exporter": "python",
   "pygments_lexer": "ipython3",
   "version": "3.12.3"
  }
 },
 "nbformat": 4,
 "nbformat_minor": 5
}
