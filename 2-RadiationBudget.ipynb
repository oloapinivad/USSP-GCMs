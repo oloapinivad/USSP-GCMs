{
 "cells": [
  {
   "cell_type": "markdown",
   "id": "3009e957",
   "metadata": {},
   "source": [
    "# Radiation budget"
   ]
  },
  {
   "cell_type": "markdown",
   "id": "4d5d329c",
   "metadata": {},
   "source": [
    "*Paolo Davini (2024)*\n",
    "\n",
    "This notebook aims at showing some properties of the Earth radiation budget, doing some calculation with climate model data. We will check some of the most important fields that constitues the surface and top-of-the-atmosphere (TOA) radiation budget, and we will do this by analyising the data from one climate simulation from the EC-Earth3 Global Climate Model. Again, data from the historical simulation will be analysed, but this time we will use yearly averaged data (again interpolated on a regular grid). Again, please note that this preprocessing operations have been all done with [CDO](https://code.mpimet.mpg.de/projects/cdo)."
   ]
  },
  {
   "cell_type": "code",
   "execution_count": null,
   "id": "9869ca43",
   "metadata": {},
   "outputs": [],
   "source": [
    "import xarray as xr\n",
    "import numpy as np\n",
    "import matplotlib.pyplot as plt"
   ]
  },
  {
   "cell_type": "markdown",
   "id": "be3a5ec4",
   "metadata": {},
   "source": [
    "We exploit a powerful functionality for file loading of xarray, that allow us to load multiple file all together, namely the `xr.open_mfdataset()` method. This is very powerful since allow to load entire directory with a simple wildcard, but it might produce unexpected results if the files have not all the same structure. \n",
    "Concerning radiation data, in the CMIP6 naming convention, all radiation variables start with `r`. This is a bit though to follow, but has some advantages when understand how it works. \n",
    "- second letter: `l` or `s` meaning longwave or shortwave\n",
    "- third letter: `u` or `d` meaning upwelling or downwelling\n",
    "- fourth letter: `s` or `t` meaning at surface or at TOA\n",
    "- bonus: `cs` meaning clear-sky radiation (we will get to that...)"
   ]
  },
  {
   "cell_type": "code",
   "execution_count": null,
   "id": "a0580cea",
   "metadata": {},
   "outputs": [],
   "source": [
    "dataset = xr.open_mfdataset('ussp/r*EC-Earth*.nc', join=\"override\", compat='override')\n",
    "dataset"
   ]
  },
  {
   "cell_type": "markdown",
   "id": "f98cdabc",
   "metadata": {},
   "source": [
    "We can start having a look at the radiation at top of the atmosphere, which in model world means the last of the model vertical level. We can look at both shortwave and longwave radiation, but we will start by looking at the radiative longwave upwelling at TOA, i.e. `rlut`. "
   ]
  },
  {
   "cell_type": "code",
   "execution_count": null,
   "id": "2cc87023",
   "metadata": {},
   "outputs": [],
   "source": [
    "dataset['rlut'][-1,:,:].plot(vmin=150, vmax=330)"
   ]
  },
  {
   "cell_type": "markdown",
   "id": "14944b08",
   "metadata": {},
   "source": [
    "What am I selecting with the `[-1,:,:]`? "
   ]
  },
  {
   "cell_type": "code",
   "execution_count": null,
   "id": "89210593",
   "metadata": {},
   "outputs": [],
   "source": [
    "dataset['rlut'].sel(time=slice('2010-01-01', '2014-12-31')).mean(dim='time').plot(vmin=150, vmax=330)"
   ]
  },
  {
   "cell_type": "markdown",
   "id": "66adb5c6",
   "metadata": {},
   "source": [
    "- **What do you see? We can see different patterns, do you have an idea of what is this?**\n",
    "- **Could you plot the other two fields at the TOA, `rsut` and `rsdt`? What they mean?**"
   ]
  },
  {
   "cell_type": "markdown",
   "id": "617edac3",
   "metadata": {},
   "source": [
    "## TOA net budget\n",
    "\n",
    "For the Earth equilibrium temperature, and the climate dynamics that results, it is very important to assess its budget at the Top of the Atmosphere. This tells us how much energy is entering the system. At the TOA we will need 3 variables: the incoming solar radiation `rsdt`, the reflected solar radiation `rsut` and the outgoing longwave radiation `rlut`. Always double check signs!"
   ]
  },
  {
   "cell_type": "code",
   "execution_count": null,
   "id": "f6942308",
   "metadata": {},
   "outputs": [],
   "source": [
    "net_toa = dataset['rsdt']-dataset['rlut']-dataset['rsut']"
   ]
  },
  {
   "cell_type": "markdown",
   "id": "c84ce63c",
   "metadata": {},
   "source": [
    "Again, all the computation are very fast since everything is lazy. If you want to store the data into memory, for example if you need to run multiple plots, you can use the `.compute()` method"
   ]
  },
  {
   "cell_type": "code",
   "execution_count": null,
   "id": "0256c6ad",
   "metadata": {},
   "outputs": [],
   "source": [
    "toa_clim = net_toa.mean(dim='time').compute()"
   ]
  },
  {
   "cell_type": "markdown",
   "id": "33c6e92a",
   "metadata": {},
   "source": [
    "The plotting will be much faster, since the data has been already computed previously!"
   ]
  },
  {
   "cell_type": "code",
   "execution_count": null,
   "id": "0fffded8",
   "metadata": {},
   "outputs": [],
   "source": [
    "toa_clim.plot()"
   ]
  },
  {
   "cell_type": "markdown",
   "id": "2adef4ac",
   "metadata": {},
   "source": [
    "- What is the consequence of having positive values at the Equator and negative at the poles? \n",
    "\n",
    "We could remark this in a cleaner doing what we name a **zonal** plot. We average along the longitudes!\n"
   ]
  },
  {
   "cell_type": "code",
   "execution_count": null,
   "id": "6d7b6935",
   "metadata": {
    "scrolled": false
   },
   "outputs": [],
   "source": [
    "zonal_toa = toa_clim.mean(dim='lon')\n",
    "zonal_toa.plot()"
   ]
  },
  {
   "cell_type": "markdown",
   "id": "15dbbed3",
   "metadata": {},
   "source": [
    "One nice thing we can do is to estimate the **poleward heat transport**, which can be obtained integrating the net toa radiation along the meridional direction. This is the amount of energy that the Earth is carrying from the equator to the pole. Considering that the model has a small bias, the more correct thing to do is to remove the mean so that the computation is correct."
   ]
  },
  {
   "cell_type": "markdown",
   "id": "64cc9a1f",
   "metadata": {},
   "source": [
    "This can be done by integrating it from South Pole to North Pole the TOA net radiation. The cumulative (i.e. the integral) can be done with the `numpy.cumsum()` function. However, we need to compute beforehand the areas of each latitudine circle. There are plenty formula for this, but simply multiply the longitude circle by the difference between two latitudes..."
   ]
  },
  {
   "cell_type": "code",
   "execution_count": null,
   "id": "375b4abb",
   "metadata": {},
   "outputs": [],
   "source": [
    "import math\n",
    "Earth = 6370000\n",
    "dlat = math.pi*Earth/len(zonal_toa.lat)\n",
    "dlon = 2*math.pi*Earth*np.cos(np.deg2rad(zonal_toa.lat))"
   ]
  },
  {
   "cell_type": "markdown",
   "id": "3f098f76",
   "metadata": {},
   "source": [
    "Now that we know the area of each latitudinal circle, we can do the integral (and dividing by 10^15 we want PetaWatt not Watt!)"
   ]
  },
  {
   "cell_type": "code",
   "execution_count": null,
   "id": "a24a611c",
   "metadata": {},
   "outputs": [],
   "source": [
    "global_transport = (np.cumsum(zonal_toa-zonal_toa.mean()))*dlon*dlat/10**15\n",
    "global_transport.plot()\n",
    "plt.title(\"Poleward Heat Transport (PW)\")"
   ]
  },
  {
   "cell_type": "markdown",
   "id": "5361fffc",
   "metadata": {},
   "source": [
    "## Time evolving radiation\n",
    "Is TOA net radiation changing in time? Do you expect it to be increasing, decreasing or being stable?\n",
    "We can compute its time evolution, don't forget to add the area weigthing!"
   ]
  },
  {
   "cell_type": "code",
   "execution_count": null,
   "id": "29b47fbb",
   "metadata": {},
   "outputs": [],
   "source": [
    "area_weights = np.cos(np.deg2rad(net_toa.lat))\n",
    "net_toa.weighted(area_weights).mean(dim=['lon','lat']).plot()"
   ]
  },
  {
   "cell_type": "markdown",
   "id": "4f2dee24",
   "metadata": {},
   "source": [
    "As we might have expected, the radiation on Earth is slowly increasing in time. But you can see that the climate change signal is small, about 1 W/m2. Considering that TOA radiation is about 240 W/m2, is a demonstration that a small imbalance can lead to significant change to the system\n",
    "\n",
    "- **What are the two negative spikes in radiation, where for one year the Earth suddenly saw a decrease in net radiation?**"
   ]
  },
  {
   "cell_type": "markdown",
   "id": "f0c854ce",
   "metadata": {},
   "source": [
    "# Cloud Radiative forcing\n",
    "\n",
    "To better understand the radiation patterns, we might want to have a look at the cloud distribution. In model and data this is usually expresse ad the percentage of each grid point covered by clouds at a given time"
   ]
  },
  {
   "cell_type": "code",
   "execution_count": null,
   "id": "339381c5",
   "metadata": {},
   "outputs": [],
   "source": [
    "cloud = xr.open_mfdataset('ussp/clt*EC-Earth*.nc')"
   ]
  },
  {
   "cell_type": "code",
   "execution_count": null,
   "id": "db20cb68",
   "metadata": {},
   "outputs": [],
   "source": [
    "cloud['clt'].sel(time=slice('2010-01-01', '2014-12-31')).mean(dim='time').plot()"
   ]
  },
  {
   "cell_type": "markdown",
   "id": "949e7098",
   "metadata": {},
   "source": [
    "Does this plot some plot we already saw in the past? Indeed, the radiation budget is strongly affected by the cloud distribution. It is very important thus to determinate the contribution of the cloud to the radiative budget. This can be easily done by estimating the CRF, the cloud radiative forcing. In real world this is not extremely easy, but in model is fairly simple since radiative schemes of climate models also save the so-called clear-sky variables, which are variables were the radiative computation is done in the ideal configuration where no cloud are present. Therefore, using such clear-sky variables, we could estimate the CRF for longwave and shorwave radiation"
   ]
  },
  {
   "cell_type": "code",
   "execution_count": null,
   "id": "bf6e820c",
   "metadata": {},
   "outputs": [],
   "source": [
    "long_crf = (dataset['rlutcs']-dataset['rlut']).sel(time=slice('2010-01-01', '2014-12-31')).mean(dim='time')\n",
    "long_crf.plot()"
   ]
  },
  {
   "cell_type": "code",
   "execution_count": null,
   "id": "d375ccdf",
   "metadata": {},
   "outputs": [],
   "source": [
    "short_crf = (dataset['rsutcs']-dataset['rsut']).sel(time=slice('2010-01-01', '2014-12-31')).mean(dim='time')\n",
    "short_crf.plot()"
   ]
  },
  {
   "cell_type": "markdown",
   "id": "1ac3c157",
   "metadata": {},
   "source": [
    "- **Could you plot and evaluate the globally averaged net cloud radiative forcing, i.e. the combination of longwave and shortwave radiation?** What is the net effect of clouds on the Earth's planet?"
   ]
  },
  {
   "cell_type": "markdown",
   "id": "3dc186a2",
   "metadata": {},
   "source": [
    "## Model biases\n",
    "To conclude this part, we just do a short analysis to remind us that climate models are great, but they have biases. \n",
    "We therefore compare the net_toa radiation we computed before to some satellite based measurement, specifically the **CERES-EBAF** dataset"
   ]
  },
  {
   "cell_type": "code",
   "execution_count": null,
   "id": "968ce365",
   "metadata": {},
   "outputs": [],
   "source": [
    "ceres = xr.open_dataset('ussp/CERES-2020-2022.nc')\n",
    "ceres"
   ]
  },
  {
   "cell_type": "markdown",
   "id": "6f621e71",
   "metadata": {},
   "source": [
    "We need to compare the two datasets on the same period, to have a honest comparison. "
   ]
  },
  {
   "cell_type": "code",
   "execution_count": null,
   "id": "664dd60d",
   "metadata": {},
   "outputs": [],
   "source": [
    "right_ece = net_toa.sel(time=slice('2001-01-01', '2014-12-31')).mean(dim='time')\n",
    "right_ceres = ceres['toa_net_all_mon'].sel(time=slice('2001-01-01', '2014-12-31')).mean(dim='time')\n",
    "bias = right_ece - right_ceres\n",
    "bias.plot()"
   ]
  },
  {
   "cell_type": "code",
   "execution_count": null,
   "id": "778d144f",
   "metadata": {},
   "outputs": [],
   "source": [
    "bias.weighted(area_weights).mean().values"
   ]
  },
  {
   "cell_type": "markdown",
   "id": "0a857a02",
   "metadata": {},
   "source": [
    "Although the bias is really small - it is not just luck, but also a consequence of the tuning of the models - there are large biases of multiple W/m2 in different part of the globe. For example EC-Earth3 has a problem in the representation of clouds in the southern ocean, which leads to a weak cloud radiative forcing in that region and has significant consequences in the representation of the sea surface temperatures and sea ice extent in the Southern Hemisphere. In climate models all is connected, so that one bias can have large implications also on other phenomenona!"
   ]
  },
  {
   "cell_type": "markdown",
   "id": "e1284b4a",
   "metadata": {},
   "source": [
    "# Surface Radiation Budget\n",
    "Now do the same operation with the radiation budget at the surface. However, this is more complex since there are more components. On top of the radiative heat fluxes, we also have the sensible and latent heat fluxes. \n",
    "\n",
    "We need to load also those fluxes, to properly close the budget"
   ]
  },
  {
   "cell_type": "code",
   "execution_count": null,
   "id": "e4d09ae2",
   "metadata": {},
   "outputs": [],
   "source": [
    "heatfluxes = xr.open_mfdataset('ussp/h*EC-Earth*.nc', join=\"override\", compat='override')"
   ]
  },
  {
   "cell_type": "code",
   "execution_count": null,
   "id": "e50756ea",
   "metadata": {},
   "outputs": [],
   "source": [
    "radiation = xr.merge([heatfluxes, dataset])\n",
    "radiation"
   ]
  },
  {
   "cell_type": "markdown",
   "id": "3f0c1f1e",
   "metadata": {},
   "source": [
    "- **Now build your surface radiation flux. You will need six variable from above, which ones?**\n",
    "- **For your free time: if you compute the meridional integral of the surface heat fluxes, you will obtain the atmospheric heat transport!**"
   ]
  }
 ],
 "metadata": {
  "kernelspec": {
   "display_name": "Python 3 (ipykernel)",
   "language": "python",
   "name": "python3"
  },
  "language_info": {
   "codemirror_mode": {
    "name": "ipython",
    "version": 3
   },
   "file_extension": ".py",
   "mimetype": "text/x-python",
   "name": "python",
   "nbconvert_exporter": "python",
   "pygments_lexer": "ipython3",
   "version": "3.12.3"
  }
 },
 "nbformat": 4,
 "nbformat_minor": 5
}
